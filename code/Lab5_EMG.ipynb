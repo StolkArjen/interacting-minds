{
  "cells": [
    {
      "cell_type": "markdown",
      "source": [
        "#Analysis of physiological responses to emotional visual stimuli\n",
        "\n",
        "This notebook demonstrates the analysis of physiological recordings obtained while the subject observed emotional visual stimuli.\n",
        "\n",
        "To get started, clone the course github containing our experimental files"
      ],
      "metadata": {
        "id": "8owKqaOIh_qm"
      }
    },
    {
      "cell_type": "code",
      "source": [
        "!git clone https://github.com/StolkArjen/human-interaction.git\n",
        "# you should be seeing a folder named 'human-interaction' appearing in your workspace (folder icon on the left)\n",
        "\n",
        "# just FYI, to remove the folder, use in separate code block: !rm -rf human-interaction\n",
        "# to clear all outputs, go to Edit > Clear all outputs, followed by Runtime > Restart"
      ],
      "metadata": {
        "id": "UbMD6hNW8xqP"
      },
      "execution_count": null,
      "outputs": []
    },
    {
      "cell_type": "markdown",
      "source": [
        "Add the code folder to the path"
      ],
      "metadata": {
        "id": "P0n5KSsOioWH"
      }
    },
    {
      "cell_type": "code",
      "execution_count": null,
      "metadata": {
        "id": "ZkQslX9220SV"
      },
      "outputs": [],
      "source": [
        "# Standard packages\n",
        "import os, sys\n",
        "\n",
        "# Local modules\n",
        "sys.path.append(os.path.join(os.getcwd(), 'human-interaction', 'code'))\n",
        "from read_json_tcg import read_json_tcg"
      ]
    },
    {
      "cell_type": "markdown",
      "source": [
        "Read data from a subject into the workspace\n",
        "\n"
      ],
      "metadata": {
        "id": "kFivJHEGMXfZ"
      }
    },
    {
      "cell_type": "code",
      "source": [
        "from read_iworx import read_iworx\n",
        "\n",
        "data_dir = os.path.join(os.getcwd(), 'human-interaction', 'data', 'EMG_WI24', 'CH')\n",
        "data, event = read_iworx(data_dir)\n",
        "\n",
        "print(event.value)\n",
        "print(event.sample)\n",
        "print(data.label)\n",
        "print(len(data.trial))\n",
        "print(len(data.trial[0]))\n",
        "print(len(data.trial[0][0]))"
      ],
      "metadata": {
        "id": "26Cse3Vaiu9V"
      },
      "execution_count": null,
      "outputs": []
    },
    {
      "cell_type": "markdown",
      "source": [
        "Data has the following nested fields:\n",
        "    .trial\n",
        "    .time\n",
        "    .label\n",
        "\n",
        "Event has the following nested fields:\n",
        "    .type\n",
        "    .sample\n",
        "    .value\n",
        "\n",
        "Let's sort our stimuli per emotion type, either positive (+) or negative (-), and get their sample indices"
      ],
      "metadata": {
        "id": "MBeJlgt7j4jE"
      }
    },
    {
      "cell_type": "code",
      "source": [
        "posidx = [i for i, e in enumerate(event.value) if e[0] == '+']\n",
        "negidx = [i for i, xxxxx e[0] == '-']\n",
        "\n",
        "possmp = [event.sample[p] for p in posidx]\n",
        "negsmp = [event.sample[p] for p in negidx]\n",
        "\n",
        "print(possmp)\n",
        "print(negsmp)"
      ],
      "metadata": {
        "id": "xZ30714bj9qI"
      },
      "execution_count": null,
      "outputs": []
    },
    {
      "cell_type": "markdown",
      "source": [
        "Got an error? My cat may have stepped on the keyboard. Can you fix it?"
      ],
      "metadata": {
        "id": "E1F3XBbzqxDb"
      }
    },
    {
      "cell_type": "markdown",
      "source": [
        "Okay, let's continue once fixed and extract data samples from around the presentation of each stimulus based on the above sample indices"
      ],
      "metadata": {
        "id": "pcrpWy7ofAbv"
      }
    },
    {
      "cell_type": "code",
      "source": [
        "import numpy as np\n",
        "\n",
        "pre = 1000 # samples corresponding to msec\n",
        "post = 1000\n",
        "\n",
        "posdat = []\n",
        "for t in range(len(data.time)): # loop through trials\n",
        "  for e in range(len(posidx)): # loop through events\n",
        "      if possmp[e] > data.time[t][0] and possmp[e] < data.time[t][-1]:\n",
        "          idx = data.time[t].index(possmp[e])\n",
        "          posdat.append(data.trial[t][:,idx-pre:idx+post])\n",
        "\n",
        "negdat = []\n",
        "xxxx\n"
      ],
      "metadata": {
        "id": "Oq6G-4TKeLU9"
      },
      "execution_count": null,
      "outputs": []
    },
    {
      "cell_type": "markdown",
      "source": [
        "Any code missing? Hint: negatives?"
      ],
      "metadata": {
        "id": "Lq7KxU8T1Iz0"
      }
    },
    {
      "cell_type": "markdown",
      "source": [
        "Now that we have the responses to stimuli, let's plot them together"
      ],
      "metadata": {
        "id": "R7HuFa-K1Z3T"
      }
    },
    {
      "cell_type": "code",
      "source": [
        "import matplotlib.pyplot as plt\n",
        "\n",
        "time = range(-pre, post, 1)\n",
        "for t in range(len(posdat)):\n",
        "  fig, axs = plt.subplots(1,5, figsize=(15,5))\n",
        "  for p in range(len(posdat[t])):\n",
        "    axs[p].plot(time, posdat[t][p,:], 'b')\n",
        "    axs[p].plot(time, negdat[t][p,:], 'r')\n",
        "    axs[p].title.set_text(data.label[p])"
      ],
      "metadata": {
        "id": "DHujAkO71eVI"
      },
      "execution_count": null,
      "outputs": []
    },
    {
      "cell_type": "markdown",
      "source": [
        "Let's take a look at the averages"
      ],
      "metadata": {
        "id": "gXAHeWOv8t-s"
      }
    },
    {
      "cell_type": "code",
      "source": [
        "posavg = np.nanmean(posdat, axis=0)\n",
        "negavg = np.nanmean(negdat, axis=0)\n",
        "\n",
        "fig, axs = plt.subplots(1,5, figsize=(15,5))\n",
        "for p in range(len(posavg)):\n",
        "  axs[p].plot(time, posavg[p,:], 'b')\n",
        "  axs[p].plot(time, negavg[p,:], 'r')\n",
        "  axs[p].title.set_text(data.label[p])"
      ],
      "metadata": {
        "id": "W9Lr__oT8yJL"
      },
      "execution_count": null,
      "outputs": []
    },
    {
      "cell_type": "markdown",
      "source": [
        "Let's plot them as changes from baseline, i.e. subtracting the time before the stimulus"
      ],
      "metadata": {
        "id": "a3qTXldD-HrY"
      }
    },
    {
      "cell_type": "code",
      "source": [
        "poschange = []\n",
        "for t in range(len(posdat)):\n",
        "  baseavg = np.mean(posdat[t][:,:pre],axis=1)\n",
        "  baseline = np.tile(baseavg[:,np.newaxis],(1,pre+post))\n",
        "  poschange.append(posdat[t]-baseline)\n",
        "poschangeavg = np.nanmean(poschange, axis=0)\n",
        "\n",
        "negchange = []\n",
        "for t in range(len(negdat)):\n",
        "  baseavg = np.mean(negdat[t][:,:pre],axis=1)\n",
        "  baseline = np.tile(baseavg[:,np.newaxis],(1,pre+post))\n",
        "  negchange.append(negdat[t]-baseline)\n",
        "negchangeavg = np.nanmean(negchange, axis=0)\n",
        "\n",
        "fig, axs = plt.subplots(1,5, figsize=(15,5))\n",
        "for p in range(len(poschangeavg)):\n",
        "  axs[p].plot(time, poschangeavg[p,:], 'b')\n",
        "  axs[p].plot(time, negchangeavg[p,:], 'r')\n",
        "  axs[p].title.set_text(data.label[p])"
      ],
      "metadata": {
        "id": "pR80anof-NKA"
      },
      "execution_count": null,
      "outputs": []
    },
    {
      "cell_type": "markdown",
      "source": [
        "What shall we investigate next? What about the relationship between heart rate and skin conductance (throughout the experiment)?\n",
        "\n",
        "Let's plot these signals and calculate their correlation"
      ],
      "metadata": {
        "id": "tdHED46MFmPb"
      }
    },
    {
      "cell_type": "code",
      "source": [
        "# let's stack all the data points together (in case there are multiple recordings)\n",
        "alldat = np.hstack(data.trial)\n",
        "alltim = np.hstack(data.time)\n",
        "\n",
        "# plot the signals\n",
        "hridx = data.label.index('Heart Rate')\n",
        "scidx = data.label.index('Skin Conductance')\n",
        "\n",
        "fig = plt.figure()\n",
        "plt.plot(alltim, alldat[hridx], 'g')\n",
        "plt.plot(alltim, alldat[scidx], 'y')\n",
        "\n",
        "# calculate the signals' correlation\n",
        "R = np.corrcoef(alldat[hridx], alldat[scidx])[1][0]\n",
        "print(R)"
      ],
      "metadata": {
        "id": "zTI3QwSgZSZH"
      },
      "execution_count": null,
      "outputs": []
    },
    {
      "cell_type": "markdown",
      "source": [
        "For a thought experiment, or perhaps actual if time allows, how would you go about correlating data from two or more subjects?"
      ],
      "metadata": {
        "id": "K5yy2sAPbFW0"
      }
    }
  ],
  "metadata": {
    "kernelspec": {
      "display_name": "Python 3",
      "language": "python",
      "name": "python3"
    },
    "language_info": {
      "codemirror_mode": {
        "name": "ipython",
        "version": 3
      },
      "file_extension": ".py",
      "mimetype": "text/x-python",
      "name": "python",
      "nbconvert_exporter": "python",
      "pygments_lexer": "ipython3",
      "version": "3.8.3"
    },
    "colab": {
      "provenance": []
    }
  },
  "nbformat": 4,
  "nbformat_minor": 0
}