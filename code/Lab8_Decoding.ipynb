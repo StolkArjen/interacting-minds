{
  "cells": [
    {
      "cell_type": "markdown",
      "metadata": {
        "id": "bxRzjsLJwMCT"
      },
      "source": [
        "#Decoding of emotional cues from physiological responses\n",
        "\n",
        "This notebook demonstrates how to run a decoding analysis applied to physiological responses obtained from a subject observing emotional visual stimuli."
      ]
    },
    {
      "cell_type": "markdown",
      "metadata": {
        "id": "KEzE1-peaqzk"
      },
      "source": [
        "To get started, let's clone the course github containing our experimental files"
      ]
    },
    {
      "cell_type": "code",
      "execution_count": 1,
      "metadata": {
        "colab": {
          "base_uri": "https://localhost:8080/"
        },
        "id": "g1XRV8LSwVLU",
        "outputId": "bbf1a8ad-db37-4671-ed4f-27668d7f62c6"
      },
      "outputs": [
        {
          "output_type": "stream",
          "name": "stdout",
          "text": [
            "Cloning into 'interacting-minds'...\n",
            "remote: Enumerating objects: 34465, done.\u001b[K\n",
            "remote: Counting objects: 100% (1797/1797), done.\u001b[K\n",
            "remote: Compressing objects: 100% (123/123), done.\u001b[K\n",
            "remote: Total 34465 (delta 1678), reused 1777 (delta 1667), pack-reused 32668\u001b[K\n",
            "Receiving objects: 100% (34465/34465), 116.01 MiB | 17.20 MiB/s, done.\n",
            "Resolving deltas: 100% (33995/33995), done.\n",
            "Checking out files: 100% (34198/34198), done.\n"
          ]
        }
      ],
      "source": [
        "!git clone https://github.com/StolkArjen/interacting-minds.git\n",
        "# to remove the folder, use: !rm -rf interacting-minds\n",
        "# to clear all outputs, go to Edit > Clear all outputs, followed by Runtime > Restart"
      ]
    },
    {
      "cell_type": "markdown",
      "source": [
        "Add the code folder to the path"
      ],
      "metadata": {
        "id": "HjYs_hjubx4L"
      }
    },
    {
      "cell_type": "code",
      "execution_count": 5,
      "metadata": {
        "id": "_py0DOv_woOW"
      },
      "outputs": [],
      "source": [
        "import os, sys\n",
        "sys.path.append(os.getcwd() + '/interacting-minds/code')"
      ]
    },
    {
      "cell_type": "markdown",
      "source": [
        "Read data from a subject into the workspace"
      ],
      "metadata": {
        "id": "3A1o-of3b27x"
      }
    },
    {
      "cell_type": "code",
      "execution_count": 6,
      "metadata": {
        "colab": {
          "base_uri": "https://localhost:8080/"
        },
        "id": "GSpSZpeiwdHB",
        "outputId": "1aa5ccc0-77ea-4b71-a331-8eb90ac1921b"
      },
      "outputs": [
        {
          "output_type": "stream",
          "name": "stdout",
          "text": [
            "['smile', 'neutral', 'Smile', 'Neutral', 'Frown', 'Neutral', 'Smile', 'Smile', 'Neutral', 'Frown', 'Neutral', 'Smile', 'Neutral', 'Frown', 'Neutral', 'Blank', 'Blank', '+Dog2', 'Blank', '+Baby2', 'Blank', '-Spider2', 'Blank', '+Friends2', 'Blank', '-Snake', 'Blank', '+Dog1', 'Blank', '-Dog1', 'Blank', '+Cat2', 'Blank', '-Dog2', 'Blank', '-Spider1', 'Blank', '+Dog3', 'Blank', '-Face', 'Blank', '+Friends1', 'Blank', '-Spider3', 'Blank', '+Baby1', 'Blank', '-Cut', 'Blank', '-Gun', 'Blank', '+Cat-Dog', 'Blank', '-Sore', 'Blank', '+Cat1', 'Blank']\n",
            "[38407.469, 38430.261, 38503.237, 38514.333, 38524.309, 38532.157, 38549.221, 38554.181, 38560.485, 38569.021, 38578.149, 38588.309, 38596.157, 38602.981, 38611.789, 38694.333, 38722.285, 38727.365, 38732.349, 38737.429, 38742.413, 38747.485, 38752.477, 38757.549, 38762.541, 38767.613, 38772.605, 38777.677, 38782.661, 38787.733, 38792.725, 38797.797, 38802.789, 38807.861, 38812.853, 38817.837, 38822.909, 38827.901, 38832.973, 38837.965, 38843.037, 38848.029, 38853.013, 38858.093, 38863.077, 38868.157, 38873.14, 38878.212, 38883.212, 38888.285, 38893.277, 38898.261, 38903.253, 38908.333, 38913.325, 38918.397, 38923.381]\n",
            "['Corrugator supercilii muscle', 'Zygomaticus major muscle', 'Pulse', 'Heart Rate', 'Skin Conductance']\n",
            "1\n",
            "5\n",
            "654272\n"
          ]
        }
      ],
      "source": [
        "from read_iworx import read_iworx\n",
        "\n",
        "data, event = read_iworx(os.getcwd() + '/interacting-minds/data/EMG_FA22/IME')\n",
        "\n",
        "print(event.value)\n",
        "print(event.sample)\n",
        "print(data.label)\n",
        "print(len(data.trial))\n",
        "print(len(data.trial[0]))\n",
        "print(len(data.trial[0][0]))"
      ]
    },
    {
      "cell_type": "markdown",
      "source": [
        "Data has the following nested fields: .trial .time .label\n",
        "\n",
        "Event has the following nested fields: .type .sample .value\n",
        "\n",
        "Let's sort our stimuli per emotion type, either positive (+) or negative (-), and get their sample indices"
      ],
      "metadata": {
        "id": "HLe8a44nb98S"
      }
    },
    {
      "cell_type": "code",
      "execution_count": 7,
      "metadata": {
        "colab": {
          "base_uri": "https://localhost:8080/"
        },
        "id": "omTzqt8ww0Wa",
        "outputId": "e6bca824-d9d2-44f6-8864-84ed0c1e07b8"
      },
      "outputs": [
        {
          "output_type": "stream",
          "name": "stdout",
          "text": [
            "[38727.365, 38737.429, 38757.549, 38777.677, 38797.797, 38827.901, 38848.029, 38868.157, 38898.261, 38918.397]\n",
            "[38747.485, 38767.613, 38787.733, 38807.861, 38817.837, 38837.965, 38858.093, 38878.212, 38888.285, 38908.333]\n"
          ]
        }
      ],
      "source": [
        "posidx = [i for i, e in enumerate(event.value) if e[0] == '+']\n",
        "negidx = [i for i, e in enumerate(event.value) if e[0] == '-']\n",
        "\n",
        "possmp = [event.sample[p] for p in posidx]\n",
        "negsmp = [event.sample[p] for p in negidx]\n",
        "\n",
        "print(possmp)\n",
        "print(negsmp)"
      ]
    },
    {
      "cell_type": "markdown",
      "source": [
        "Now let's extract data samples from around the presentation of each stimulus based on the above sample indices"
      ],
      "metadata": {
        "id": "e_8Ruqf_cDnB"
      }
    },
    {
      "cell_type": "code",
      "execution_count": 9,
      "metadata": {
        "id": "iyVplxapw-es"
      },
      "outputs": [],
      "source": [
        "import numpy as np\n",
        "\n",
        "pre  = 1 # in seconds\n",
        "post = 1\n",
        "fs   = 1000 # sample frequency (samples per second)\n",
        "\n",
        "posdat = []\n",
        "for t in range(len(data.time)): # loop through trials\n",
        "  for e in range(len(posidx)): # loop through events\n",
        "      if possmp[e]-pre > data.time[t][0] and possmp[e]+post < data.time[t][-1]:\n",
        "          idx = data.time[t].index(possmp[e])\n",
        "          posdat.append(data.trial[t][:,idx-(pre*fs):idx+(post*fs)])\n",
        "\n",
        "negdat = []\n",
        "for t in range(len(data.time)): # loop through trials\n",
        "  for e in range(len(negidx)): # loop through events\n",
        "      if negsmp[e]-pre > data.time[t][0] and negsmp[e]+post < data.time[t][-1]:\n",
        "          idx = data.time[t].index(negsmp[e])\n",
        "          negdat.append(data.trial[t][:,idx-(pre*fs):idx+(post*fs)])"
      ]
    },
    {
      "cell_type": "markdown",
      "source": [
        "Let's take a look at the averages"
      ],
      "metadata": {
        "id": "O6M8vgYrcXaU"
      }
    },
    {
      "cell_type": "code",
      "execution_count": 10,
      "metadata": {
        "id": "CmhSgYxvzMWW",
        "colab": {
          "base_uri": "https://localhost:8080/",
          "height": 336
        },
        "outputId": "679fbadf-8ddc-4aef-845b-42533d208b63"
      },
      "outputs": [
        {
          "output_type": "display_data",
          "data": {
            "text/plain": [
              "<Figure size 1080x360 with 5 Axes>"
            ],
            "image/png": "[encoded data removed]"
          },
          "metadata": {
            "needs_background": "light"
          }
        }
      ],
      "source": [
        "import matplotlib.pyplot as plt\n",
        "\n",
        "time = range(-pre*fs, post*fs, 1)\n",
        "posavg = np.nanmean(posdat, axis=0)\n",
        "negavg = np.nanmean(negdat, axis=0)\n",
        "\n",
        "fig, axs = plt.subplots(1,5, figsize=(15,5))\n",
        "for p in range(len(posavg)):\n",
        "  axs[p].plot(time, posavg[p,:], 'b')\n",
        "  axs[p].plot(time, negavg[p,:], 'r')\n",
        "  axs[p].title.set_text(data.label[p])"
      ]
    },
    {
      "cell_type": "markdown",
      "metadata": {
        "id": "pFYmCQL4PlNZ"
      },
      "source": [
        "Here's where we perform the actual decoding analysis. Let's try to decode positive and negative emotional cues from the physiological responses. In brief, we combine the positive and negative trials into one dataset. Next, we create a labels vector with 0 and 1s corresponding to the positive and negative trials. Finally, we assess statistically whether we can draw a hyperplane that differentiates between the two classes (positive, negative). We use cross-validation to this effect."
      ]
    },
    {
      "cell_type": "code",
      "execution_count": 21,
      "metadata": {
        "id": "mHgOv6rKrsUF",
        "colab": {
          "base_uri": "https://localhost:8080/",
          "height": 1000
        },
        "outputId": "1a1b56a9-b7f7-4d5b-b08f-421d460fb6ae"
      },
      "outputs": [
        {
          "output_type": "stream",
          "name": "stdout",
          "text": [
            "(20, 5, 2000) (20,)\n",
            "(20, 2, 2000)\n",
            "0.31 accuracy with a standard deviation of 0.11\n",
            "0.31 accuracy with a standard deviation of 0.11\n",
            "0.31 accuracy with a standard deviation of 0.11\n",
            "0.31 accuracy with a standard deviation of 0.11\n",
            "0.31 accuracy with a standard deviation of 0.11\n",
            "0.31 accuracy with a standard deviation of 0.11\n",
            "0.31 accuracy with a standard deviation of 0.11\n",
            "0.31 accuracy with a standard deviation of 0.11\n",
            "0.31 accuracy with a standard deviation of 0.11\n",
            "0.31 accuracy with a standard deviation of 0.11\n",
            "0.31 accuracy with a standard deviation of 0.11\n",
            "0.31 accuracy with a standard deviation of 0.11\n",
            "0.31 accuracy with a standard deviation of 0.11\n",
            "0.31 accuracy with a standard deviation of 0.11\n",
            "0.31 accuracy with a standard deviation of 0.11\n",
            "0.31 accuracy with a standard deviation of 0.11\n",
            "0.31 accuracy with a standard deviation of 0.11\n",
            "0.31 accuracy with a standard deviation of 0.11\n",
            "0.31 accuracy with a standard deviation of 0.11\n",
            "0.31 accuracy with a standard deviation of 0.11\n",
            "0.31 accuracy with a standard deviation of 0.11\n",
            "0.31 accuracy with a standard deviation of 0.11\n",
            "0.31 accuracy with a standard deviation of 0.11\n",
            "0.31 accuracy with a standard deviation of 0.11\n",
            "0.31 accuracy with a standard deviation of 0.11\n",
            "0.31 accuracy with a standard deviation of 0.11\n",
            "0.31 accuracy with a standard deviation of 0.11\n",
            "0.47 accuracy with a standard deviation of 0.22\n",
            "0.47 accuracy with a standard deviation of 0.22\n",
            "0.48 accuracy with a standard deviation of 0.15\n",
            "0.47 accuracy with a standard deviation of 0.22\n",
            "0.39 accuracy with a standard deviation of 0.18\n",
            "0.36 accuracy with a standard deviation of 0.20\n",
            "0.36 accuracy with a standard deviation of 0.20\n",
            "0.36 accuracy with a standard deviation of 0.20\n",
            "0.36 accuracy with a standard deviation of 0.20\n",
            "0.36 accuracy with a standard deviation of 0.20\n",
            "0.47 accuracy with a standard deviation of 0.22\n",
            "0.47 accuracy with a standard deviation of 0.22\n",
            "0.39 accuracy with a standard deviation of 0.18\n",
            "0.45 accuracy with a standard deviation of 0.16\n",
            "0.45 accuracy with a standard deviation of 0.16\n",
            "0.45 accuracy with a standard deviation of 0.16\n",
            "0.45 accuracy with a standard deviation of 0.16\n",
            "0.45 accuracy with a standard deviation of 0.16\n",
            "0.45 accuracy with a standard deviation of 0.16\n",
            "0.45 accuracy with a standard deviation of 0.16\n",
            "0.45 accuracy with a standard deviation of 0.16\n",
            "0.45 accuracy with a standard deviation of 0.16\n",
            "0.45 accuracy with a standard deviation of 0.16\n",
            "0.45 accuracy with a standard deviation of 0.16\n",
            "0.45 accuracy with a standard deviation of 0.16\n",
            "0.45 accuracy with a standard deviation of 0.16\n",
            "0.49 accuracy with a standard deviation of 0.20\n",
            "0.37 accuracy with a standard deviation of 0.11\n",
            "0.37 accuracy with a standard deviation of 0.11\n",
            "0.37 accuracy with a standard deviation of 0.11\n",
            "0.37 accuracy with a standard deviation of 0.11\n",
            "0.37 accuracy with a standard deviation of 0.11\n",
            "0.37 accuracy with a standard deviation of 0.11\n",
            "0.37 accuracy with a standard deviation of 0.11\n",
            "0.37 accuracy with a standard deviation of 0.11\n",
            "0.37 accuracy with a standard deviation of 0.11\n",
            "0.37 accuracy with a standard deviation of 0.11\n",
            "0.37 accuracy with a standard deviation of 0.11\n",
            "0.39 accuracy with a standard deviation of 0.18\n",
            "0.37 accuracy with a standard deviation of 0.11\n",
            "0.37 accuracy with a standard deviation of 0.11\n",
            "0.37 accuracy with a standard deviation of 0.11\n",
            "0.37 accuracy with a standard deviation of 0.11\n",
            "0.37 accuracy with a standard deviation of 0.11\n",
            "0.37 accuracy with a standard deviation of 0.11\n",
            "0.37 accuracy with a standard deviation of 0.11\n",
            "0.37 accuracy with a standard deviation of 0.11\n",
            "0.37 accuracy with a standard deviation of 0.11\n",
            "0.37 accuracy with a standard deviation of 0.11\n",
            "0.37 accuracy with a standard deviation of 0.11\n",
            "0.37 accuracy with a standard deviation of 0.11\n",
            "0.37 accuracy with a standard deviation of 0.11\n",
            "0.37 accuracy with a standard deviation of 0.11\n",
            "0.37 accuracy with a standard deviation of 0.11\n",
            "0.37 accuracy with a standard deviation of 0.11\n",
            "0.37 accuracy with a standard deviation of 0.11\n",
            "0.37 accuracy with a standard deviation of 0.11\n",
            "0.37 accuracy with a standard deviation of 0.11\n",
            "0.37 accuracy with a standard deviation of 0.11\n",
            "0.37 accuracy with a standard deviation of 0.11\n",
            "0.37 accuracy with a standard deviation of 0.11\n",
            "0.37 accuracy with a standard deviation of 0.11\n",
            "0.37 accuracy with a standard deviation of 0.11\n",
            "0.37 accuracy with a standard deviation of 0.11\n",
            "0.37 accuracy with a standard deviation of 0.11\n",
            "0.34 accuracy with a standard deviation of 0.10\n",
            "0.37 accuracy with a standard deviation of 0.11\n",
            "0.37 accuracy with a standard deviation of 0.11\n",
            "0.37 accuracy with a standard deviation of 0.11\n",
            "0.37 accuracy with a standard deviation of 0.11\n",
            "0.37 accuracy with a standard deviation of 0.11\n",
            "0.37 accuracy with a standard deviation of 0.11\n",
            "0.37 accuracy with a standard deviation of 0.11\n",
            "0.37 accuracy with a standard deviation of 0.11\n",
            "0.37 accuracy with a standard deviation of 0.11\n",
            "0.37 accuracy with a standard deviation of 0.11\n",
            "0.37 accuracy with a standard deviation of 0.11\n",
            "0.37 accuracy with a standard deviation of 0.11\n",
            "0.37 accuracy with a standard deviation of 0.11\n",
            "0.37 accuracy with a standard deviation of 0.11\n",
            "0.37 accuracy with a standard deviation of 0.11\n",
            "0.37 accuracy with a standard deviation of 0.11\n",
            "0.37 accuracy with a standard deviation of 0.11\n",
            "0.37 accuracy with a standard deviation of 0.11\n",
            "0.37 accuracy with a standard deviation of 0.11\n",
            "0.37 accuracy with a standard deviation of 0.11\n",
            "0.37 accuracy with a standard deviation of 0.11\n",
            "0.37 accuracy with a standard deviation of 0.11\n",
            "0.37 accuracy with a standard deviation of 0.11\n",
            "0.37 accuracy with a standard deviation of 0.11\n",
            "0.37 accuracy with a standard deviation of 0.11\n",
            "0.37 accuracy with a standard deviation of 0.11\n",
            "0.37 accuracy with a standard deviation of 0.11\n",
            "0.37 accuracy with a standard deviation of 0.11\n",
            "0.37 accuracy with a standard deviation of 0.11\n",
            "0.37 accuracy with a standard deviation of 0.11\n",
            "0.37 accuracy with a standard deviation of 0.11\n",
            "0.37 accuracy with a standard deviation of 0.11\n",
            "0.37 accuracy with a standard deviation of 0.11\n",
            "0.37 accuracy with a standard deviation of 0.07\n",
            "0.40 accuracy with a standard deviation of 0.08\n",
            "0.40 accuracy with a standard deviation of 0.08\n",
            "0.40 accuracy with a standard deviation of 0.08\n",
            "0.40 accuracy with a standard deviation of 0.08\n",
            "0.40 accuracy with a standard deviation of 0.08\n",
            "0.40 accuracy with a standard deviation of 0.08\n",
            "0.40 accuracy with a standard deviation of 0.08\n",
            "0.40 accuracy with a standard deviation of 0.08\n",
            "0.40 accuracy with a standard deviation of 0.08\n",
            "0.40 accuracy with a standard deviation of 0.08\n",
            "0.40 accuracy with a standard deviation of 0.08\n",
            "0.40 accuracy with a standard deviation of 0.08\n",
            "0.40 accuracy with a standard deviation of 0.08\n",
            "0.40 accuracy with a standard deviation of 0.08\n",
            "0.45 accuracy with a standard deviation of 0.16\n",
            "0.48 accuracy with a standard deviation of 0.15\n",
            "0.48 accuracy with a standard deviation of 0.15\n",
            "0.48 accuracy with a standard deviation of 0.15\n",
            "0.48 accuracy with a standard deviation of 0.15\n",
            "0.48 accuracy with a standard deviation of 0.15\n",
            "0.48 accuracy with a standard deviation of 0.15\n",
            "0.48 accuracy with a standard deviation of 0.15\n",
            "0.48 accuracy with a standard deviation of 0.15\n",
            "0.48 accuracy with a standard deviation of 0.15\n",
            "0.48 accuracy with a standard deviation of 0.15\n",
            "0.48 accuracy with a standard deviation of 0.15\n",
            "0.48 accuracy with a standard deviation of 0.15\n",
            "0.48 accuracy with a standard deviation of 0.15\n",
            "0.48 accuracy with a standard deviation of 0.15\n",
            "0.48 accuracy with a standard deviation of 0.15\n",
            "0.45 accuracy with a standard deviation of 0.16\n",
            "0.45 accuracy with a standard deviation of 0.16\n",
            "0.45 accuracy with a standard deviation of 0.16\n",
            "0.45 accuracy with a standard deviation of 0.16\n",
            "0.45 accuracy with a standard deviation of 0.16\n",
            "0.45 accuracy with a standard deviation of 0.16\n",
            "0.45 accuracy with a standard deviation of 0.16\n",
            "0.45 accuracy with a standard deviation of 0.16\n",
            "0.45 accuracy with a standard deviation of 0.18\n",
            "0.48 accuracy with a standard deviation of 0.15\n",
            "0.48 accuracy with a standard deviation of 0.15\n",
            "0.48 accuracy with a standard deviation of 0.15\n",
            "0.48 accuracy with a standard deviation of 0.15\n",
            "0.48 accuracy with a standard deviation of 0.15\n",
            "0.51 accuracy with a standard deviation of 0.13\n",
            "0.48 accuracy with a standard deviation of 0.15\n",
            "0.48 accuracy with a standard deviation of 0.15\n",
            "0.48 accuracy with a standard deviation of 0.15\n",
            "0.48 accuracy with a standard deviation of 0.15\n",
            "0.48 accuracy with a standard deviation of 0.15\n",
            "0.48 accuracy with a standard deviation of 0.15\n",
            "0.48 accuracy with a standard deviation of 0.15\n",
            "0.48 accuracy with a standard deviation of 0.15\n",
            "0.48 accuracy with a standard deviation of 0.15\n",
            "0.48 accuracy with a standard deviation of 0.15\n",
            "0.40 accuracy with a standard deviation of 0.08\n",
            "0.40 accuracy with a standard deviation of 0.08\n",
            "0.40 accuracy with a standard deviation of 0.08\n",
            "0.40 accuracy with a standard deviation of 0.08\n",
            "0.40 accuracy with a standard deviation of 0.08\n",
            "0.40 accuracy with a standard deviation of 0.08\n",
            "0.40 accuracy with a standard deviation of 0.08\n",
            "0.40 accuracy with a standard deviation of 0.08\n",
            "0.40 accuracy with a standard deviation of 0.08\n",
            "0.40 accuracy with a standard deviation of 0.08\n",
            "0.40 accuracy with a standard deviation of 0.08\n",
            "0.40 accuracy with a standard deviation of 0.08\n",
            "0.40 accuracy with a standard deviation of 0.08\n",
            "0.40 accuracy with a standard deviation of 0.08\n",
            "0.40 accuracy with a standard deviation of 0.08\n",
            "0.40 accuracy with a standard deviation of 0.08\n",
            "0.40 accuracy with a standard deviation of 0.08\n",
            "0.40 accuracy with a standard deviation of 0.08\n",
            "0.40 accuracy with a standard deviation of 0.08\n",
            "0.40 accuracy with a standard deviation of 0.08\n",
            "0.40 accuracy with a standard deviation of 0.08\n",
            "0.37 accuracy with a standard deviation of 0.07\n",
            "0.45 accuracy with a standard deviation of 0.16\n",
            "0.45 accuracy with a standard deviation of 0.16\n",
            "0.45 accuracy with a standard deviation of 0.16\n",
            "0.45 accuracy with a standard deviation of 0.16\n",
            "0.45 accuracy with a standard deviation of 0.16\n",
            "0.45 accuracy with a standard deviation of 0.16\n",
            "0.45 accuracy with a standard deviation of 0.16\n",
            "0.45 accuracy with a standard deviation of 0.16\n",
            "0.45 accuracy with a standard deviation of 0.16\n",
            "0.45 accuracy with a standard deviation of 0.16\n",
            "0.45 accuracy with a standard deviation of 0.16\n",
            "0.48 accuracy with a standard deviation of 0.15\n",
            "0.48 accuracy with a standard deviation of 0.15\n",
            "0.40 accuracy with a standard deviation of 0.08\n",
            "0.53 accuracy with a standard deviation of 0.18\n",
            "0.53 accuracy with a standard deviation of 0.18\n",
            "0.53 accuracy with a standard deviation of 0.18\n",
            "0.53 accuracy with a standard deviation of 0.18\n",
            "0.53 accuracy with a standard deviation of 0.18\n",
            "0.53 accuracy with a standard deviation of 0.18\n",
            "0.53 accuracy with a standard deviation of 0.18\n",
            "0.53 accuracy with a standard deviation of 0.18\n",
            "0.53 accuracy with a standard deviation of 0.18\n",
            "0.53 accuracy with a standard deviation of 0.18\n",
            "0.53 accuracy with a standard deviation of 0.18\n",
            "0.53 accuracy with a standard deviation of 0.18\n",
            "0.53 accuracy with a standard deviation of 0.18\n",
            "0.53 accuracy with a standard deviation of 0.18\n",
            "0.53 accuracy with a standard deviation of 0.18\n",
            "0.53 accuracy with a standard deviation of 0.18\n",
            "0.53 accuracy with a standard deviation of 0.18\n",
            "0.53 accuracy with a standard deviation of 0.18\n",
            "0.53 accuracy with a standard deviation of 0.18\n",
            "0.53 accuracy with a standard deviation of 0.18\n",
            "0.53 accuracy with a standard deviation of 0.18\n",
            "0.53 accuracy with a standard deviation of 0.18\n",
            "0.53 accuracy with a standard deviation of 0.18\n",
            "0.53 accuracy with a standard deviation of 0.18\n",
            "0.53 accuracy with a standard deviation of 0.18\n",
            "0.53 accuracy with a standard deviation of 0.18\n",
            "0.53 accuracy with a standard deviation of 0.18\n",
            "0.53 accuracy with a standard deviation of 0.18\n",
            "0.53 accuracy with a standard deviation of 0.18\n",
            "0.53 accuracy with a standard deviation of 0.18\n",
            "0.53 accuracy with a standard deviation of 0.18\n",
            "0.53 accuracy with a standard deviation of 0.18\n",
            "0.53 accuracy with a standard deviation of 0.18\n",
            "0.53 accuracy with a standard deviation of 0.18\n",
            "0.53 accuracy with a standard deviation of 0.18\n",
            "0.53 accuracy with a standard deviation of 0.18\n",
            "0.53 accuracy with a standard deviation of 0.18\n",
            "0.53 accuracy with a standard deviation of 0.18\n",
            "0.53 accuracy with a standard deviation of 0.18\n",
            "0.53 accuracy with a standard deviation of 0.18\n",
            "0.53 accuracy with a standard deviation of 0.18\n",
            "0.53 accuracy with a standard deviation of 0.18\n",
            "0.53 accuracy with a standard deviation of 0.18\n",
            "0.53 accuracy with a standard deviation of 0.18\n",
            "0.53 accuracy with a standard deviation of 0.18\n",
            "0.48 accuracy with a standard deviation of 0.15\n",
            "0.42 accuracy with a standard deviation of 0.18\n",
            "0.55 accuracy with a standard deviation of 0.23\n",
            "0.55 accuracy with a standard deviation of 0.23\n",
            "0.55 accuracy with a standard deviation of 0.23\n",
            "0.55 accuracy with a standard deviation of 0.23\n",
            "0.55 accuracy with a standard deviation of 0.23\n",
            "0.55 accuracy with a standard deviation of 0.29\n",
            "0.55 accuracy with a standard deviation of 0.23\n",
            "0.55 accuracy with a standard deviation of 0.23\n",
            "0.55 accuracy with a standard deviation of 0.23\n",
            "0.55 accuracy with a standard deviation of 0.23\n",
            "0.55 accuracy with a standard deviation of 0.23\n",
            "0.55 accuracy with a standard deviation of 0.23\n",
            "0.55 accuracy with a standard deviation of 0.23\n",
            "0.55 accuracy with a standard deviation of 0.23\n",
            "0.55 accuracy with a standard deviation of 0.23\n",
            "0.55 accuracy with a standard deviation of 0.23\n",
            "0.55 accuracy with a standard deviation of 0.23\n",
            "0.55 accuracy with a standard deviation of 0.23\n",
            "0.55 accuracy with a standard deviation of 0.23\n",
            "0.55 accuracy with a standard deviation of 0.23\n",
            "0.55 accuracy with a standard deviation of 0.23\n",
            "0.55 accuracy with a standard deviation of 0.23\n",
            "0.55 accuracy with a standard deviation of 0.23\n",
            "0.50 accuracy with a standard deviation of 0.21\n",
            "0.60 accuracy with a standard deviation of 0.29\n",
            "0.60 accuracy with a standard deviation of 0.29\n",
            "0.60 accuracy with a standard deviation of 0.29\n",
            "0.60 accuracy with a standard deviation of 0.29\n",
            "0.60 accuracy with a standard deviation of 0.29\n",
            "0.60 accuracy with a standard deviation of 0.29\n",
            "0.60 accuracy with a standard deviation of 0.29\n",
            "0.60 accuracy with a standard deviation of 0.29\n",
            "0.60 accuracy with a standard deviation of 0.29\n",
            "0.60 accuracy with a standard deviation of 0.29\n",
            "0.60 accuracy with a standard deviation of 0.29\n",
            "0.60 accuracy with a standard deviation of 0.29\n",
            "0.60 accuracy with a standard deviation of 0.29\n",
            "0.60 accuracy with a standard deviation of 0.29\n",
            "0.55 accuracy with a standard deviation of 0.23\n",
            "0.60 accuracy with a standard deviation of 0.29\n",
            "0.60 accuracy with a standard deviation of 0.29\n",
            "0.60 accuracy with a standard deviation of 0.29\n",
            "0.60 accuracy with a standard deviation of 0.29\n",
            "0.60 accuracy with a standard deviation of 0.29\n",
            "0.60 accuracy with a standard deviation of 0.29\n",
            "0.60 accuracy with a standard deviation of 0.29\n",
            "0.60 accuracy with a standard deviation of 0.29\n",
            "0.60 accuracy with a standard deviation of 0.29\n",
            "0.60 accuracy with a standard deviation of 0.29\n",
            "0.60 accuracy with a standard deviation of 0.29\n",
            "0.60 accuracy with a standard deviation of 0.29\n",
            "0.60 accuracy with a standard deviation of 0.29\n",
            "0.60 accuracy with a standard deviation of 0.29\n",
            "0.60 accuracy with a standard deviation of 0.29\n",
            "0.60 accuracy with a standard deviation of 0.29\n",
            "0.42 accuracy with a standard deviation of 0.18\n",
            "0.60 accuracy with a standard deviation of 0.29\n",
            "0.60 accuracy with a standard deviation of 0.29\n",
            "0.42 accuracy with a standard deviation of 0.18\n",
            "0.60 accuracy with a standard deviation of 0.29\n",
            "0.60 accuracy with a standard deviation of 0.29\n",
            "0.60 accuracy with a standard deviation of 0.29\n",
            "0.60 accuracy with a standard deviation of 0.29\n",
            "0.60 accuracy with a standard deviation of 0.29\n",
            "0.60 accuracy with a standard deviation of 0.29\n",
            "0.60 accuracy with a standard deviation of 0.29\n",
            "0.60 accuracy with a standard deviation of 0.29\n",
            "0.60 accuracy with a standard deviation of 0.29\n",
            "0.60 accuracy with a standard deviation of 0.29\n",
            "0.60 accuracy with a standard deviation of 0.29\n",
            "0.60 accuracy with a standard deviation of 0.29\n",
            "0.60 accuracy with a standard deviation of 0.29\n",
            "0.60 accuracy with a standard deviation of 0.29\n",
            "0.60 accuracy with a standard deviation of 0.29\n",
            "0.60 accuracy with a standard deviation of 0.29\n",
            "0.60 accuracy with a standard deviation of 0.29\n",
            "0.42 accuracy with a standard deviation of 0.18\n",
            "0.60 accuracy with a standard deviation of 0.29\n",
            "0.60 accuracy with a standard deviation of 0.29\n",
            "0.60 accuracy with a standard deviation of 0.29\n",
            "0.60 accuracy with a standard deviation of 0.29\n",
            "0.60 accuracy with a standard deviation of 0.29\n",
            "0.47 accuracy with a standard deviation of 0.22\n",
            "0.55 accuracy with a standard deviation of 0.23\n",
            "0.55 accuracy with a standard deviation of 0.23\n",
            "0.55 accuracy with a standard deviation of 0.23\n",
            "0.55 accuracy with a standard deviation of 0.23\n",
            "0.55 accuracy with a standard deviation of 0.23\n",
            "0.55 accuracy with a standard deviation of 0.23\n",
            "0.55 accuracy with a standard deviation of 0.23\n",
            "0.55 accuracy with a standard deviation of 0.23\n",
            "0.55 accuracy with a standard deviation of 0.23\n",
            "0.55 accuracy with a standard deviation of 0.23\n",
            "0.55 accuracy with a standard deviation of 0.23\n",
            "0.47 accuracy with a standard deviation of 0.22\n",
            "0.47 accuracy with a standard deviation of 0.22\n",
            "0.47 accuracy with a standard deviation of 0.22\n",
            "0.47 accuracy with a standard deviation of 0.22\n",
            "0.47 accuracy with a standard deviation of 0.22\n",
            "0.47 accuracy with a standard deviation of 0.22\n",
            "0.47 accuracy with a standard deviation of 0.22\n",
            "0.47 accuracy with a standard deviation of 0.22\n",
            "0.47 accuracy with a standard deviation of 0.22\n",
            "0.47 accuracy with a standard deviation of 0.22\n",
            "0.47 accuracy with a standard deviation of 0.22\n",
            "0.47 accuracy with a standard deviation of 0.22\n",
            "0.47 accuracy with a standard deviation of 0.22\n",
            "0.47 accuracy with a standard deviation of 0.22\n",
            "0.47 accuracy with a standard deviation of 0.22\n",
            "0.47 accuracy with a standard deviation of 0.22\n",
            "0.47 accuracy with a standard deviation of 0.22\n",
            "0.47 accuracy with a standard deviation of 0.22\n",
            "0.47 accuracy with a standard deviation of 0.22\n",
            "0.47 accuracy with a standard deviation of 0.22\n",
            "0.47 accuracy with a standard deviation of 0.22\n",
            "0.47 accuracy with a standard deviation of 0.22\n",
            "0.47 accuracy with a standard deviation of 0.22\n",
            "0.47 accuracy with a standard deviation of 0.22\n",
            "0.47 accuracy with a standard deviation of 0.22\n",
            "0.47 accuracy with a standard deviation of 0.22\n",
            "0.47 accuracy with a standard deviation of 0.22\n",
            "0.47 accuracy with a standard deviation of 0.22\n",
            "0.47 accuracy with a standard deviation of 0.22\n",
            "0.47 accuracy with a standard deviation of 0.22\n",
            "0.55 accuracy with a standard deviation of 0.23\n",
            "0.68 accuracy with a standard deviation of 0.26\n",
            "0.68 accuracy with a standard deviation of 0.26\n",
            "0.55 accuracy with a standard deviation of 0.23\n",
            "0.55 accuracy with a standard deviation of 0.23\n",
            "0.55 accuracy with a standard deviation of 0.23\n",
            "0.55 accuracy with a standard deviation of 0.23\n",
            "0.55 accuracy with a standard deviation of 0.23\n",
            "0.50 accuracy with a standard deviation of 0.21\n",
            "0.50 accuracy with a standard deviation of 0.21\n",
            "0.50 accuracy with a standard deviation of 0.21\n"
          ]
        },
        {
          "output_type": "execute_result",
          "data": {
            "text/plain": [
              "[<matplotlib.lines.Line2D at 0x7fe786abbf90>]"
            ]
          },
          "metadata": {},
          "execution_count": 21
        },
        {
          "output_type": "display_data",
          "data": {
            "text/plain": [
              "<Figure size 432x288 with 1 Axes>"
            ],
            "image/png": "[encoded data removed]"
          },
          "metadata": {
            "needs_background": "light"
          }
        }
      ],
      "source": [
        "import numpy as np\n",
        "from sklearn import svm\n",
        "from sklearn.model_selection import cross_val_score\n",
        "\n",
        "# create the data matrix and labels\n",
        "X = np.concatenate((posdat, negdat), axis=0)\n",
        "y = np.concatenate((np.zeros(len(posdat)), np.ones(len(negdat))), axis=0)\n",
        "print(X.shape, y.shape)\n",
        "\n",
        "# use only HR and SC for decoding\n",
        "hridx = data.label.index('Heart Rate')\n",
        "scidx = data.label.index('Skin Conductance')\n",
        "X = X[:,[hridx, scidx],:]\n",
        "print(X.shape)\n",
        "\n",
        "# loop across multiple segments for dynamic decoding\n",
        "winlen   = 5 # samples\n",
        "segments = np.array_split(X, X.shape[2]/winlen, axis=2)\n",
        "scores   = []\n",
        "for s in segments:\n",
        "  seg = np.reshape((s), (s.shape[0], s.shape[1]*s.shape[2])) # collapse 2nd and 3rd dims\n",
        "  clf = svm.SVC(kernel='linear', C=1, random_state=42) # fit the hyperplane\n",
        "  scores.append(cross_val_score(clf, seg, y, cv=5, scoring='f1_macro')) # 5-fold cross-val\n",
        "  print(\"%0.2f accuracy with a standard deviation of %0.2f\" % (scores[-1].mean(), scores[-1].std()))\n",
        "\n",
        "# plot the average scores over time\n",
        "scoavg  = np.nanmean(scores, axis=1)\n",
        "segtime = np.linspace(time[0], time[-1], num=len(segments))\n",
        "plt.plot(segtime, scoavg)"
      ]
    },
    {
      "cell_type": "markdown",
      "source": [
        "For more details on the overall procedure and pertinent parameters, take a look at: https://scikit-learn.org/stable/modules/cross_validation.html"
      ],
      "metadata": {
        "id": "_79izyupdnD2"
      }
    }
  ],
  "metadata": {
    "colab": {
      "collapsed_sections": [],
      "provenance": []
    },
    "kernelspec": {
      "display_name": "Python 3",
      "name": "python3"
    },
    "language_info": {
      "name": "python"
    }
  },
  "nbformat": 4,
  "nbformat_minor": 0
}