{
  "cells": [
    {
      "cell_type": "markdown",
      "metadata": {
        "id": "bxRzjsLJwMCT"
      },
      "source": [
        "#Decoding emotional content from physiological responses to visual stimuli\n",
        "\n",
        "This notebook demonstrates how to run a decoding analysis of physiological data obtained from a subject observing emotional visual stimuli."
      ]
    },
    {
      "cell_type": "markdown",
      "metadata": {
        "id": "KEzE1-peaqzk"
      },
      "source": [
        "To get started, let's clone the course github containing our experimental files"
      ]
    },
    {
      "cell_type": "code",
      "execution_count": null,
      "metadata": {
        "id": "g1XRV8LSwVLU"
      },
      "outputs": [],
      "source": [
        "!git clone https://github.com/StolkArjen/interacting-minds.git\n",
        "# to remove the folder, use: !rm -rf interacting-minds\n",
        "# to clear all outputs, go to Edit > Clear all outputs, followed by Runtime > Restart"
      ]
    },
    {
      "cell_type": "markdown",
      "source": [
        "Add the code folder to the path"
      ],
      "metadata": {
        "id": "HjYs_hjubx4L"
      }
    },
    {
      "cell_type": "code",
      "execution_count": null,
      "metadata": {
        "id": "_py0DOv_woOW"
      },
      "outputs": [],
      "source": [
        "import os, sys\n",
        "sys.path.append(os.getcwd() + '/interacting-minds/code')"
      ]
    },
    {
      "cell_type": "markdown",
      "source": [
        "Read data from a subject into the workspace"
      ],
      "metadata": {
        "id": "3A1o-of3b27x"
      }
    },
    {
      "cell_type": "code",
      "execution_count": null,
      "metadata": {
        "id": "GSpSZpeiwdHB"
      },
      "outputs": [],
      "source": [
        "from read_iworx import read_iworx\n",
        "\n",
        "data, event = read_iworx(os.getcwd() + '/interacting-minds/data/EMG_FA22/IME')\n",
        "\n",
        "print(event.value)\n",
        "print(event.sample)\n",
        "print(data.label)\n",
        "print(len(data.trial))\n",
        "print(len(data.trial[0]))\n",
        "print(len(data.trial[0][0]))"
      ]
    },
    {
      "cell_type": "markdown",
      "source": [
        "Data has the following nested fields: .trial .time .label\n",
        "\n",
        "Event has the following nested fields: .type .sample .value\n",
        "\n",
        "Let's sort our stimuli per emotion type, either positive (+) or negative (-), and get their sample indices"
      ],
      "metadata": {
        "id": "HLe8a44nb98S"
      }
    },
    {
      "cell_type": "code",
      "execution_count": null,
      "metadata": {
        "id": "omTzqt8ww0Wa"
      },
      "outputs": [],
      "source": [
        "posidx = [i for i, e in enumerate(event.value) if e[0] == '+']\n",
        "negidx = [i for i, e in enumerate(event.value) if e[0] == '-']\n",
        "\n",
        "possmp = [event.sample[p] for p in posidx]\n",
        "negsmp = [event.sample[p] for p in negidx]\n",
        "\n",
        "print(possmp)\n",
        "print(negsmp)"
      ]
    },
    {
      "cell_type": "markdown",
      "source": [
        "Now let's extract data samples from around the presentation of each stimulus based on the above sample indices"
      ],
      "metadata": {
        "id": "e_8Ruqf_cDnB"
      }
    },
    {
      "cell_type": "code",
      "execution_count": null,
      "metadata": {
        "id": "iyVplxapw-es"
      },
      "outputs": [],
      "source": [
        "import numpy as np\n",
        "\n",
        "pre  = 1 # in seconds\n",
        "post = 1\n",
        "fs   = 1000 # sample frequency (samples per second)\n",
        "\n",
        "posdat = []\n",
        "for t in range(len(data.time)): # loop through trials\n",
        "  for e in range(len(posidx)): # loop through events\n",
        "      if possmp[e]-pre > data.time[t][0] and possmp[e]+post < data.time[t][-1]:\n",
        "          idx = data.time[t].index(possmp[e])\n",
        "          posdat.append(data.trial[t][:,idx-(pre*fs):idx+(post*fs)])\n",
        "\n",
        "negdat = []\n",
        "for t in range(len(data.time)): # loop through trials\n",
        "  for e in range(len(negidx)): # loop through events\n",
        "      if negsmp[e]-pre > data.time[t][0] and negsmp[e]+post < data.time[t][-1]:\n",
        "          idx = data.time[t].index(negsmp[e])\n",
        "          negdat.append(data.trial[t][:,idx-(pre*fs):idx+(post*fs)])"
      ]
    },
    {
      "cell_type": "markdown",
      "source": [
        "Let's take a look at the averages"
      ],
      "metadata": {
        "id": "O6M8vgYrcXaU"
      }
    },
    {
      "cell_type": "code",
      "execution_count": null,
      "metadata": {
        "id": "CmhSgYxvzMWW"
      },
      "outputs": [],
      "source": [
        "import matplotlib.pyplot as plt\n",
        "\n",
        "time = range(-pre*fs, post*fs, 1)\n",
        "posavg = np.nanmean(posdat, axis=0)\n",
        "negavg = np.nanmean(negdat, axis=0)\n",
        "\n",
        "fig, axs = plt.subplots(1,5, figsize=(15,5))\n",
        "for p in range(len(posavg)):\n",
        "  axs[p].plot(time, posavg[p,:], 'b')\n",
        "  axs[p].plot(time, negavg[p,:], 'r')\n",
        "  axs[p].title.set_text(data.label[p])"
      ]
    },
    {
      "cell_type": "markdown",
      "metadata": {
        "id": "pFYmCQL4PlNZ"
      },
      "source": [
        "Here's where we perform the actual decoding. Let's try to decode positive and negative emotional cues from the physiological responses. In brief, we combine the positive and negative trials into one dataset. Next, we create a labels vector with 0 and 1s corresponding to the positive and negative trials. Finally, we assess statistically whether we can fit a hyperplane that differentiates between the two classes (positive, negative). We use cross-validation to this effect."
      ]
    },
    {
      "cell_type": "code",
      "execution_count": null,
      "metadata": {
        "id": "mHgOv6rKrsUF"
      },
      "outputs": [],
      "source": [
        "import numpy as np\n",
        "from sklearn import svm\n",
        "from sklearn.model_selection import cross_val_score\n",
        "\n",
        "# create the data matrix and labels\n",
        "X = np.concatenate((posdat, negdat), axis=0) # trials x measures x samples\n",
        "y = np.concatenate((np.zeros(len(posdat)), np.ones(len(negdat))), axis=0)\n",
        "print(X.shape, y.shape)\n",
        "\n",
        "# use only HR and SC for decoding\n",
        "hridx = data.label.index('Heart Rate')\n",
        "scidx = data.label.index('Skin Conductance')\n",
        "X = X[:,[hridx, scidx],:]\n",
        "\n",
        "# specify the classifier\n",
        "clf = svm.SVC(kernel='linear', random_state=42) # support vector classification\n",
        "\n",
        "# loop across multiple segments for moment-by-moment decoding\n",
        "winlen   = 25 # window size in samples\n",
        "segments = np.array_split(X, X.shape[2]/winlen, axis=2)\n",
        "scores   = []\n",
        "for s in segments:\n",
        "  seg = np.reshape((s), (s.shape[0], s.shape[1]*s.shape[2])) # collapse 2nd and 3rd dims (the features)\n",
        "  scores.append(cross_val_score(clf, seg, y, cv=5, scoring='accuracy')) # 5-fold cross-val\n",
        "  print(\"%0.2f accuracy with a standard deviation of %0.2f\" % (scores[-1].mean(), scores[-1].std()))\n",
        "\n",
        "# plot mean accuracy over time\n",
        "avgacc  = np.nanmean(scores, axis=1)\n",
        "segtime = np.linspace(time[0], time[-1], num=len(segments))\n",
        "plt.plot(segtime, avgacc)"
      ]
    },
    {
      "cell_type": "markdown",
      "source": [
        "How to continue from here? One way would be to test the mean decoding accuracy across participants against the chance-level accuracy (e.g., using a one-sample Student t-test) to verify whether the physiological responses include information about the label (e.g., positive/negative emotional cue). Alternatively, the resulting decoding accuracy can be compared with a permutation distribution of accuracy scores derived from randomly partioning labels or indices between the two datasets (positive, negative) myriad times. The latter can be achieved as follows (note that for the point of demonstration n_permutations is set to too small a number for generating a proper distribution and corresponding p-value)."
      ],
      "metadata": {
        "id": "_79izyupdnD2"
      }
    },
    {
      "cell_type": "code",
      "source": [
        "from sklearn.model_selection import permutation_test_score\n",
        "\n",
        "# create and loop across consecutive segments for moment-to-moment decoding\n",
        "winlen   = 25 # window size in samples\n",
        "scores   = []\n",
        "perms    = []\n",
        "pvalues  = []\n",
        "for count, s in enumerate(segments):\n",
        "  print(\"classifying segment \" + str(count+1) + \"/\" + str(len(segments)))\n",
        "  seg = np.reshape((s), (s.shape[0], s.shape[1]*s.shape[2])) # collapse 2nd and 3rd dims (the features)\n",
        "  score, perm, pvalue = permutation_test_score(clf, seg, y, scoring=\"accuracy\", cv=5, n_permutations=20)\n",
        "  scores.append(score) # scores on original data\n",
        "  perms.append(perm)   # scores on permutated data\n",
        "  pvalues.append(pvalue)"
      ],
      "metadata": {
        "id": "_t9l10eT-EDm"
      },
      "execution_count": null,
      "outputs": []
    },
    {
      "cell_type": "code",
      "source": [
        "# plot mean score on original and permuted data\n",
        "fig, ax = plt.subplots()\n",
        "ax.hist(np.mean(perms, axis=1), bins=20, density=True)\n",
        "ax.axvline(np.mean(scores), ls=\"--\", color=\"r\")\n",
        "score_label = f\"Score on original\\ndata: {np.mean(scores):.2f}\\n(p-value: {np.mean(pvalues):.3f})\"\n",
        "ax.text(0.7, 10, score_label, fontsize=12)\n",
        "ax.set_xlabel(\"Accuracy score\")\n",
        "_ = ax.set_ylabel(\"Probability\")\n",
        "\n",
        "# plot accuracy and p-value over time\n",
        "fig, ax = plt.subplots()\n",
        "segtime = np.linspace(time[0], time[-1], num=len(segments))\n",
        "plt.plot(segtime, scores)\n",
        "plt.plot(segtime, pvalues)\n",
        "ax.legend(['Accuracy score', 'P-value'])"
      ],
      "metadata": {
        "id": "fs3I-EEDWgUc"
      },
      "execution_count": null,
      "outputs": []
    },
    {
      "cell_type": "markdown",
      "source": [
        "For further reading on support vector machines and cross-validation, have a look at https://scikit-learn.org/stable/modules/svm.html and https://scikit-learn.org/stable/modules/cross_validation.html"
      ],
      "metadata": {
        "id": "uNDlWKOsir74"
      }
    }
  ],
  "metadata": {
    "colab": {
      "collapsed_sections": [],
      "provenance": []
    },
    "kernelspec": {
      "display_name": "Python 3",
      "name": "python3"
    },
    "language_info": {
      "name": "python"
    }
  },
  "nbformat": 4,
  "nbformat_minor": 0
}